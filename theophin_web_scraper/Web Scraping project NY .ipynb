{
 "cells": [
  {
   "cell_type": "markdown",
   "metadata": {},
   "source": [
    "# Web Scraper Project\n",
    "I am scraping 20 years of stats from the New York Knicks. I'm scraping total points, assists,rebounds, blocks, steals and turnovers\n"
   ]
  },
  {
   "cell_type": "code",
   "execution_count": 91,
   "metadata": {},
   "outputs": [],
   "source": [
    "from urllib.request import urlopen\n",
    "from selenium import webdriver\n",
    "from bs4 import BeautifulSoup\n",
    "from random import randint\n",
    "import requests\n",
    "import time\n",
    "import csv"
   ]
  },
  {
   "cell_type": "markdown",
   "metadata": {},
   "source": [
    "# My driver and links\n",
    "Made a list of all 20 URLS"
   ]
  },
  {
   "cell_type": "code",
   "execution_count": 92,
   "metadata": {},
   "outputs": [],
   "source": [
    "driver = webdriver.Chrome('/Users/courtneytheophin/Documents/scraping_project2019/chromedriver')\n",
    "link_list = ['https://www.basketball-reference.com/teams/NYK/2019.html','https://www.basketball-reference.com/teams/NYK/2018.html',\n",
    "             'https://www.basketball-reference.com/teams/NYK/2017.html','https://www.basketball-reference.com/teams/NYK/2016.html',\n",
    "             'https://www.basketball-reference.com/teams/NYK/2015.html',\n",
    "             'https://www.basketball-reference.com/teams/NYK/2014.html','https://www.basketball-reference.com/teams/NYK/2013.html',\n",
    "             'https://www.basketball-reference.com/teams/NYK/2012.html','https://www.basketball-reference.com/teams/NYK/2011.html',\n",
    "             'https://www.basketball-reference.com/teams/NYK/2010.html','https://www.basketball-reference.com/teams/NYK/2009.html',\n",
    "             'https://www.basketball-reference.com/teams/NYK/2008.html','https://www.basketball-reference.com/teams/NYK/2007.html',\n",
    "             'https://www.basketball-reference.com/teams/NYK/2006.html',\n",
    "             'https://www.basketball-reference.com/teams/NYK/2005.html','https://www.basketball-reference.com/teams/NYK/2004.html',\n",
    "             'https://www.basketball-reference.com/teams/NYK/2003.html','https://www.basketball-reference.com/teams/NYK/2002.html',\n",
    "             'https://www.basketball-reference.com/teams/NYK/2001.html','https://www.basketball-reference.com/teams/NYK/2000.html']\n"
   ]
  },
  {
   "cell_type": "markdown",
   "metadata": {},
   "source": [
    "# Headers for my CSV"
   ]
  },
  {
   "cell_type": "code",
   "execution_count": null,
   "metadata": {},
   "outputs": [],
   "source": [
    "headers = ['Year', 'Points', 'Assists','Steals', 'Blocks', 'Rebounds','Turnovers']"
   ]
  },
  {
   "cell_type": "code",
   "execution_count": 99,
   "metadata": {},
   "outputs": [
    {
     "data": {
      "text/plain": [
       "54"
      ]
     },
     "execution_count": 99,
     "metadata": {},
     "output_type": "execute_result"
    }
   ],
   "source": [
    "f = open(\"knicks.csv\", 'w', newline='', encoding='utf-8')\n",
    "writer = csv.writer(f)\n",
    "writer.writerow(headers)"
   ]
  },
  {
   "cell_type": "markdown",
   "metadata": {},
   "source": [
    "# My function to scrape "
   ]
  },
  {
   "cell_type": "code",
   "execution_count": 95,
   "metadata": {},
   "outputs": [],
   "source": [
    "for link in link_list:\n",
    "    one_year_stats = knicks_20(link)\n",
    "    writer.writerow(one_year_stats)"
   ]
  },
  {
   "cell_type": "code",
   "execution_count": 96,
   "metadata": {},
   "outputs": [],
   "source": [
    "def knicks_20(knicks_url):\n",
    "    driver.get(knicks_url)\n",
    "    html = driver.page_source\n",
    "    bs = BeautifulSoup(html, \"html.parser\")\n",
    "    all_knicks = []\n",
    "    deep = bs.find('h1', {'itemprop': 'name'})\n",
    "    year = deep.find('span').get_text()\n",
    "    points = bs.find('td', {'data-stat': 'pts'}).get_text()\n",
    "    assists = bs.find('td', {'data-stat': 'ast'}).get_text()\n",
    "    steals = bs.find('td', {'data-stat': 'stl'}).get_text() \n",
    "    blocks = bs.find('td', {'data-stat': 'blk'}).get_text()\n",
    "    rebounds = bs.find('td', {'data-stat': 'trb'}).get_text() \n",
    "    turnover = bs.find('td', {'data-stat': 'tov'}).get_text() \n",
    "    all_knicks = [year,points,assists,steals,blocks,rebounds,turnover]\n",
    "    return all_knicks\n",
    "#knicks_url = 'https://www.basketball-reference.com/teams/NYK/2019.html';\n",
    "#big_stats = knicks_20(knicks_url)\n",
    "f.close()"
   ]
  },
  {
   "cell_type": "markdown",
   "metadata": {},
   "source": [
    "# Closing the file here"
   ]
  },
  {
   "cell_type": "code",
   "execution_count": 97,
   "metadata": {},
   "outputs": [],
   "source": [
    "#big_stats"
   ]
  },
  {
   "cell_type": "code",
   "execution_count": 98,
   "metadata": {},
   "outputs": [],
   "source": [
    "driver.quit()"
   ]
  },
  {
   "cell_type": "code",
   "execution_count": null,
   "metadata": {},
   "outputs": [],
   "source": []
  }
 ],
 "metadata": {
  "kernelspec": {
   "display_name": "Python 3",
   "language": "python",
   "name": "python3"
  },
  "language_info": {
   "codemirror_mode": {
    "name": "ipython",
    "version": 3
   },
   "file_extension": ".py",
   "mimetype": "text/x-python",
   "name": "python",
   "nbconvert_exporter": "python",
   "pygments_lexer": "ipython3",
   "version": "3.7.2"
  }
 },
 "nbformat": 4,
 "nbformat_minor": 2
}
